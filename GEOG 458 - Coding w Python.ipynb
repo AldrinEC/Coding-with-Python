{
 "cells": [
  {
   "cell_type": "markdown",
   "metadata": {},
   "source": [
    "Aldrin Carbonell (https://github.com/AldrinEC)\n",
    "\n",
    "February 8, 2019\n",
    "\n",
    "GEOG 458\n",
    "\n",
    "# Part 1 - Getting Started\n",
    "\n",
    "\n",
    "## Task 1\n",
    "This [Jupyter Notebook](https://nbviewer.jupyter.org/github/seanjtaylor/NFLRanking/blob/master/NFL%20Rankings.ipynb) ranks NFL teams using data imported online, which include wins from each team. The Jupyter Notebook doesn't describe the code in detail, but a supplementary slideshow is provided to help better understand the process. Various mathematical algorithms are used for temporal data to determine the power ranking for each NFL team. This is interesting to me because it combines math and large datasets for one of my favorite sports to watch (and play), football."
   ]
  },
  {
   "cell_type": "markdown",
   "metadata": {},
   "source": [
    "## Task 2\n",
    "### A\n",
    "According to [pythontips](https://pythontips.com/2013/07/30/20-python-libraries-you-cant-live-without/) and [Active Wizards](https://activewizards.com/blog/top-20-python-libraries-for-data-science-in-2018/), a few popular Python packages include NumPy, Pandas, and Matplotlib. NumPy provides advanced mathematical tools and enables processing of large matrices and arrays. Pandas is used for large data structures and tools for analysis of respective data. Matplotlib is used similar to ggplot in R Markdown, which is primarily for visualizing plots.\n",
    "\n",
    "### B\n",
    "[Matplotlib](https://matplotlib.org/) is similar to ggplot in R, which enables the user to create bar graphs, histograms, scatterplots, etc.\n",
    "\n",
    "### C\n",
    "[Pandas](https://pandas.pydata.org/) allows you to work with data frames, arrays and matrices as well as run data analyses."
   ]
  },
  {
   "cell_type": "markdown",
   "metadata": {},
   "source": [
    "## Task 3\n",
    "Differences between Python and R syntax:\n",
    "\n",
    "1) Statements used for importing libraries/packages in the \"setup\" sections for the two languages are different. For example, in R, you have to declare \"r setup\" in the opening bracket of the code chunk, and then type \"library(insertpackagename)\". For Python, you simply type \"import packagename\".\n",
    "\n",
    "2) Producing strings in R are more simple than in Python. In an R Markdown document, you can simply write out plain text outside of a code chunk. In Python, strings must be produced with print statements using the syntax \"print _____\".\n",
    "\n",
    "3) When working with IDLE for Python, the area where you type out your code to be interpreted is indicated by \">>>\". In RStudio for R, your interpreted code should just be placed within code chunks."
   ]
  },
  {
   "cell_type": "markdown",
   "metadata": {},
   "source": [
    "# Part 2 - Strings & Basic Syntax\n",
    "\n",
    "## Task 4"
   ]
  },
  {
   "cell_type": "code",
   "execution_count": 133,
   "metadata": {},
   "outputs": [
    {
     "name": "stdout",
     "output_type": "stream",
     "text": [
      "IenjoyGeography\n"
     ]
    }
   ],
   "source": [
    "word1 = \"I\"\n",
    "word2 = \"enjoy\"\n",
    "word3 = \"Geography\"\n",
    "print word1 + word2  + word3"
   ]
  },
  {
   "cell_type": "markdown",
   "metadata": {},
   "source": [
    "## Task 5"
   ]
  },
  {
   "cell_type": "code",
   "execution_count": 134,
   "metadata": {},
   "outputs": [
    {
     "name": "stdout",
     "output_type": "stream",
     "text": [
      "IenjoyGeography458\n",
      "IENJOYGEOGRAPHY458\n"
     ]
    }
   ],
   "source": [
    "num = 458\n",
    "objects = word1 + word2 + word3 + str(num)\n",
    "print objects\n",
    "print objects.upper()"
   ]
  },
  {
   "cell_type": "markdown",
   "metadata": {},
   "source": [
    "## Task 6 - lists, find()"
   ]
  },
  {
   "cell_type": "code",
   "execution_count": 135,
   "metadata": {},
   "outputs": [
    {
     "name": "stdout",
     "output_type": "stream",
     "text": [
      "['I', 'enjoy', 'Geography', '458']\n",
      "I enjoy Geography 458\n"
     ]
    },
    {
     "data": {
      "text/plain": [
       "1"
      ]
     },
     "execution_count": 135,
     "metadata": {},
     "output_type": "execute_result"
    }
   ],
   "source": [
    "sentence = [word1, word2, word3, str(num)]\n",
    "print sentence\n",
    "\n",
    "long_string = \" \"\n",
    "sentence2 = long_string.join(sentence)\n",
    "print sentence2\n",
    "\n",
    "sentence2.count(\"I\")"
   ]
  },
  {
   "cell_type": "code",
   "execution_count": 136,
   "metadata": {
    "scrolled": true
   },
   "outputs": [
    {
     "data": {
      "text/plain": [
       "8"
      ]
     },
     "execution_count": 136,
     "metadata": {},
     "output_type": "execute_result"
    }
   ],
   "source": [
    "sentence2.find(\"Geography\")"
   ]
  },
  {
   "cell_type": "markdown",
   "metadata": {},
   "source": [
    "## Task 7 - Printing the 1st half of a string"
   ]
  },
  {
   "cell_type": "code",
   "execution_count": 137,
   "metadata": {},
   "outputs": [
    {
     "name": "stdout",
     "output_type": "stream",
     "text": [
      "I enjoy Geo\n"
     ]
    }
   ],
   "source": [
    "print sentence2[0:11]"
   ]
  },
  {
   "cell_type": "markdown",
   "metadata": {},
   "source": [
    "## Task 8 - strip() & replace()"
   ]
  },
  {
   "cell_type": "code",
   "execution_count": 138,
   "metadata": {},
   "outputs": [
    {
     "name": "stdout",
     "output_type": "stream",
     "text": [
      "I enjoy Geography\n"
     ]
    }
   ],
   "source": [
    "sentence3 = sentence2.strip(\" 458\")\n",
    "print sentence3"
   ]
  },
  {
   "cell_type": "code",
   "execution_count": 139,
   "metadata": {},
   "outputs": [
    {
     "name": "stdout",
     "output_type": "stream",
     "text": [
      "I like Geography\n"
     ]
    }
   ],
   "source": [
    "sentence4 = sentence3.replace(\"enjoy\", \"like\")\n",
    "print sentence4"
   ]
  },
  {
   "cell_type": "markdown",
   "metadata": {},
   "source": [
    "## Task 9 - split() & insert()"
   ]
  },
  {
   "cell_type": "code",
   "execution_count": 140,
   "metadata": {},
   "outputs": [
    {
     "data": {
      "text/plain": [
       "['I', 'like', 'Geography']"
      ]
     },
     "execution_count": 140,
     "metadata": {},
     "output_type": "execute_result"
    }
   ],
   "source": [
    "relist = sentence4.split(\" \")\n",
    "relist"
   ]
  },
  {
   "cell_type": "code",
   "execution_count": 141,
   "metadata": {},
   "outputs": [
    {
     "data": {
      "text/plain": [
       "['I', 'really', 'like', 'Geography']"
      ]
     },
     "execution_count": 141,
     "metadata": {},
     "output_type": "execute_result"
    }
   ],
   "source": [
    "relist.insert(1, \"really\")\n",
    "relist"
   ]
  },
  {
   "cell_type": "markdown",
   "metadata": {},
   "source": [
    "# Part 3 - Conditionals\n",
    "## Task 10"
   ]
  },
  {
   "cell_type": "code",
   "execution_count": 197,
   "metadata": {},
   "outputs": [
    {
     "name": "stdout",
     "output_type": "stream",
     "text": [
      "8\n",
      "1st Quartile\n"
     ]
    }
   ],
   "source": [
    "import random\n",
    "\n",
    "num = random.randint(1, 100)\n",
    "print num\n",
    "\n",
    "if num <= 25:\n",
    "    print \"1st Quartile\"\n",
    "elif num > 25 and num <= 50:\n",
    "    print \"2nd Quartile\"\n",
    "elif num > 50 and num <= 75:\n",
    "    print \"3rd Quartile\"\n",
    "else:\n",
    "    print \"4th Quartile\""
   ]
  },
  {
   "cell_type": "markdown",
   "metadata": {},
   "source": [
    "# Part 4 - Loops\n",
    "## Task 11"
   ]
  },
  {
   "cell_type": "code",
   "execution_count": 204,
   "metadata": {},
   "outputs": [
    {
     "name": "stdout",
     "output_type": "stream",
     "text": [
      "Warning, residents of Seattle, temperatures will reach sub-zero temperatures today, please stay indoors if possible.\n",
      "Warning, residents of Denver, temperatures will reach sub-zero temperatures today, please stay indoors if possible.\n",
      "Warning, residents of Chicago, temperatures will reach sub-zero temperatures today, please stay indoors if possible.\n",
      "Warning, residents of Minneapolis, temperatures will reach sub-zero temperatures today, please stay indoors if possible.\n",
      "Warning, residents of Cleveland, temperatures will reach sub-zero temperatures today, please stay indoors if possible.\n",
      "Warning, residents of New York, temperatures will reach sub-zero temperatures today, please stay indoors if possible.\n"
     ]
    }
   ],
   "source": [
    "cities_warning = [\"Seattle\", \"Denver\", \"Chicago\", \"Minneapolis\", \"Cleveland\", \"New York\"]\n",
    "\n",
    "for CITY in cities_warning:\n",
    "    print \"Warning, residents of \" + CITY + \", temperatures will reach sub-zero temperatures today, please stay indoors if possible.\""
   ]
  },
  {
   "cell_type": "markdown",
   "metadata": {},
   "source": [
    "## Task 12 - appending lists to make new pathnames\n",
    "I used this [source](https://developers.google.com/edu/python/lists) provided in the assignment walkthrough to see the syntax for appending two lists."
   ]
  },
  {
   "cell_type": "code",
   "execution_count": 205,
   "metadata": {},
   "outputs": [
    {
     "name": "stdout",
     "output_type": "stream",
     "text": [
      "U://Users/Zhang/Geog_458/Washington.shp\n",
      "U://Users/Zhang/Geog_458/California.shp\n",
      "U://Users/Zhang/Geog_458/Nevada.shp\n",
      "U://Users/Zhang/Geog_458/Idaho.shp\n",
      "U://Users/Zhang/Geog_458/Montana.shp\n",
      "U://Users/Zhang/Geog_458/Utah.shp\n",
      "U://Users/Zhang/Geog_458/Colorado.shp\n",
      "U://Users/Zhang/Geog_458/New Mexico.shp\n"
     ]
    }
   ],
   "source": [
    "file_names = []\n",
    "state_names = [\"Washington\", \"California\", \"Nevada\", \"Idaho\", \"Montana\", \"Utah\", \"Colorado\", \"New Mexico\"]\n",
    "\n",
    "for STATE in state_names:\n",
    "    file_names + state_names\n",
    "    print \"U://Users/Zhang/Geog_458/\" + STATE + \".shp\""
   ]
  },
  {
   "cell_type": "markdown",
   "metadata": {},
   "source": [
    "## Task 13"
   ]
  },
  {
   "cell_type": "code",
   "execution_count": 237,
   "metadata": {},
   "outputs": [
    {
     "name": "stdout",
     "output_type": "stream",
     "text": [
      "T-minus 10\n",
      "T-minus 9\n",
      "T-minus 8\n",
      "T-minus 7\n",
      "T-minus 6\n",
      "T-minus 5\n",
      "T-minus 4\n",
      "T-minus 3\n",
      "T-minus 2\n",
      "T-minus 1\n",
      "T-minus 0\n"
     ]
    }
   ],
   "source": [
    "COUNT = 10\n",
    "\n",
    "while COUNT >= 0:\n",
    "    print \"T-minus \" + str(COUNT)\n",
    "    COUNT -= 1"
   ]
  },
  {
   "cell_type": "markdown",
   "metadata": {},
   "source": [
    "# Part 5 - Functions\n",
    "\n",
    "## Task 13 pt. 2"
   ]
  },
  {
   "cell_type": "code",
   "execution_count": 226,
   "metadata": {},
   "outputs": [
    {
     "name": "stdout",
     "output_type": "stream",
     "text": [
      "T-minus 10\n",
      "T-minus 9\n",
      "T-minus 8\n",
      "T-minus 7\n",
      "T-minus 6\n",
      "T-minus 5\n",
      "T-minus 4\n",
      "T-minus 3\n",
      "T-minus 2\n",
      "T-minus 1\n",
      "T-minus 0\n"
     ]
    }
   ],
   "source": [
    "count = 10\n",
    "def countdown(count):\n",
    "    while count >= 0:\n",
    "        print \"T-minus \" + str(count)\n",
    "        count -= 1\n",
    "countdown(count)"
   ]
  },
  {
   "cell_type": "markdown",
   "metadata": {},
   "source": [
    "## Task 14"
   ]
  },
  {
   "cell_type": "code",
   "execution_count": 236,
   "metadata": {},
   "outputs": [
    {
     "name": "stdout",
     "output_type": "stream",
     "text": [
      "90\n",
      "4th Quartile\n"
     ]
    }
   ],
   "source": [
    "num = input(\"\")\n",
    "\n",
    "def quartile_calc(num):\n",
    "    if num >= 0 and num <= 25:\n",
    "        print \"1st Quartile\"\n",
    "    elif num > 25 and num <= 50:\n",
    "        print \"2nd Quartile\"\n",
    "    elif num > 50 and num <= 75:\n",
    "        print \"3rd Quartile\"\n",
    "    elif num > 75 and num <= 100:\n",
    "        print \"4th Quartile\"\n",
    "    else:\n",
    "        print \"ERROR\"\n",
    "        \n",
    "quartile_calc(num)"
   ]
  }
 ],
 "metadata": {
  "kernelspec": {
   "display_name": "Python 2",
   "language": "python",
   "name": "python2"
  },
  "language_info": {
   "codemirror_mode": {
    "name": "ipython",
    "version": 2
   },
   "file_extension": ".py",
   "mimetype": "text/x-python",
   "name": "python",
   "nbconvert_exporter": "python",
   "pygments_lexer": "ipython2",
   "version": "2.7.15"
  }
 },
 "nbformat": 4,
 "nbformat_minor": 2
}
